{
 "cells": [
  {
   "cell_type": "code",
   "execution_count": 1,
   "metadata": {},
   "outputs": [
    {
     "name": "stdout",
     "output_type": "stream",
     "text": [
      "Processing c:\\users\\yami\\downloads\\ta_lib-0.4.32-cp312-cp312-win_amd64.whlNote: you may need to restart the kernel to use updated packages.\n",
      "\n",
      "Requirement already satisfied: numpy in c:\\users\\yami\\appdata\\local\\programs\\python\\python312\\lib\\site-packages (from TA-Lib==0.4.32) (2.1.0)\n",
      "Installing collected packages: TA-Lib\n",
      "Successfully installed TA-Lib-0.4.32\n"
     ]
    }
   ],
   "source": [
    "%pip install \"C:\\Users\\yami\\Downloads\\TA_Lib-0.4.32-cp312-cp312-win_amd64.whl\""
   ]
  },
  {
   "cell_type": "markdown",
   "metadata": {},
   "source": [
    "# Accessing and understanding the data\n"
   ]
  },
  {
   "cell_type": "code",
   "execution_count": 1,
   "metadata": {},
   "outputs": [
    {
     "name": "stderr",
     "output_type": "stream",
     "text": [
      "<>:7: SyntaxWarning: invalid escape sequence '\\d'\n",
      "<>:7: SyntaxWarning: invalid escape sequence '\\d'\n",
      "C:\\Users\\yami\\AppData\\Local\\Temp\\ipykernel_14912\\2863926483.py:7: SyntaxWarning: invalid escape sequence '\\d'\n",
      "  csv_directory = '..\\data\\yfinance_data'\n"
     ]
    },
    {
     "name": "stdout",
     "output_type": "stream",
     "text": [
      "Directory contents: ['AAPL_historical_data.csv', 'AMZN_historical_data.csv', 'GOOG_historical_data.csv', 'META_historical_data.csv', 'MSFT_historical_data.csv', 'NVDA_historical_data.csv', 'TSLA_historical_data.csv']\n",
      "CSV files found: ['..\\\\data\\\\yfinance_data\\\\AAPL_historical_data.csv', '..\\\\data\\\\yfinance_data\\\\AMZN_historical_data.csv', '..\\\\data\\\\yfinance_data\\\\GOOG_historical_data.csv', '..\\\\data\\\\yfinance_data\\\\META_historical_data.csv', '..\\\\data\\\\yfinance_data\\\\MSFT_historical_data.csv', '..\\\\data\\\\yfinance_data\\\\NVDA_historical_data.csv', '..\\\\data\\\\yfinance_data\\\\TSLA_historical_data.csv']\n",
      "         Date      Open      High       Low     Close  Adj Close     Volume  \\\n",
      "0  1980-12-12  0.128348  0.128906  0.128348  0.128348   0.098943  469033600   \n",
      "1  1980-12-15  0.122210  0.122210  0.121652  0.121652   0.093781  175884800   \n",
      "2  1980-12-16  0.113281  0.113281  0.112723  0.112723   0.086898  105728000   \n",
      "3  1980-12-17  0.115513  0.116071  0.115513  0.115513   0.089049   86441600   \n",
      "4  1980-12-18  0.118862  0.119420  0.118862  0.118862   0.091630   73449600   \n",
      "\n",
      "   Dividends  Stock Splits  \n",
      "0        0.0           0.0  \n",
      "1        0.0           0.0  \n",
      "2        0.0           0.0  \n",
      "3        0.0           0.0  \n",
      "4        0.0           0.0  \n"
     ]
    }
   ],
   "source": [
    "import glob\n",
    "import os\n",
    "import pandas as pd\n",
    "\n",
    "\n",
    "# Path to CSV files\n",
    "csv_directory = '..\\data\\yfinance_data'\n",
    "\n",
    "# Verify the directory and files\n",
    "print(\"Directory contents:\", os.listdir(csv_directory))\n",
    "csv_files = glob.glob(os.path.join(csv_directory, '*.csv'))\n",
    "print(\"CSV files found:\", csv_files)\n",
    "\n",
    "# Load and concatenate all CSV files into one DataFrame\n",
    "data_frames = [pd.read_csv(file) for file in csv_files]\n",
    "if not data_frames:\n",
    "    raise ValueError(\"No data frames to concatenate.\")\n",
    "\n",
    "combined_df = pd.concat(data_frames, ignore_index=True)\n",
    "\n",
    "# Display the first few rows of the combined DataFrame\n",
    "print(combined_df.head())"
   ]
  },
  {
   "cell_type": "markdown",
   "metadata": {},
   "source": [
    "# preprocessing the Combined data do get the proper format\n"
   ]
  },
  {
   "cell_type": "code",
   "execution_count": 3,
   "metadata": {},
   "outputs": [
    {
     "name": "stdout",
     "output_type": "stream",
     "text": [
      "Columns in combined_df: Index(['Date', 'Open', 'High', 'Low', 'Close', 'Adj Close', 'Volume',\n",
      "       'Dividends', 'Stock Splits'],\n",
      "      dtype='object')\n",
      "                Open      High       Low     Close  Adj Close     Volume  \\\n",
      "Date                                                                       \n",
      "1980-12-12  0.128348  0.128906  0.128348  0.128348   0.098943  469033600   \n",
      "1980-12-15  0.122210  0.122210  0.121652  0.121652   0.093781  175884800   \n",
      "1980-12-16  0.113281  0.113281  0.112723  0.112723   0.086898  105728000   \n",
      "1980-12-17  0.115513  0.116071  0.115513  0.115513   0.089049   86441600   \n",
      "1980-12-18  0.118862  0.119420  0.118862  0.118862   0.091630   73449600   \n",
      "\n",
      "            Dividends  Stock Splits  \n",
      "Date                                 \n",
      "1980-12-12        0.0           0.0  \n",
      "1980-12-15        0.0           0.0  \n",
      "1980-12-16        0.0           0.0  \n",
      "1980-12-17        0.0           0.0  \n",
      "1980-12-18        0.0           0.0  \n"
     ]
    }
   ],
   "source": [
    "# Load and concatenate all CSV files into one DataFrame\n",
    "data_frames = [pd.read_csv(file) for file in csv_files]\n",
    "if not data_frames:\n",
    "    raise ValueError(\"No data frames to concatenate.\")\n",
    "\n",
    "combined_df = pd.concat(data_frames, ignore_index=True)\n",
    "\n",
    "# Display the column names \n",
    "print(\"Columns in combined_df:\", combined_df.columns)\n",
    "\n",
    "# Convert 'Date' column to datetime format\n",
    "if 'Date' in combined_df.columns:\n",
    "    combined_df['Date'] = pd.to_datetime(combined_df['Date'], errors='coerce')  # Use errors='coerce' to handle any invalid date formats\n",
    "    combined_df.set_index('Date', inplace=True)\n",
    "else:\n",
    "    print(\"Column 'Date' not found in the DataFrame.\")\n",
    "\n",
    "# Display the DataFrame structure to confirm it is ready for TA-Lib\n",
    "print(combined_df.head())"
   ]
  },
  {
   "cell_type": "markdown",
   "metadata": {},
   "source": [
    "# Apply Analysis Indicators with TA-Lib\n"
   ]
  },
  {
   "cell_type": "code",
   "execution_count": 4,
   "metadata": {},
   "outputs": [
    {
     "name": "stdout",
     "output_type": "stream",
     "text": [
      "                Open      High       Low     Close  Adj Close     Volume  \\\n",
      "Date                                                                       \n",
      "1980-12-12  0.128348  0.128906  0.128348  0.128348   0.098943  469033600   \n",
      "1980-12-15  0.122210  0.122210  0.121652  0.121652   0.093781  175884800   \n",
      "1980-12-16  0.113281  0.113281  0.112723  0.112723   0.086898  105728000   \n",
      "1980-12-17  0.115513  0.116071  0.115513  0.115513   0.089049   86441600   \n",
      "1980-12-18  0.118862  0.119420  0.118862  0.118862   0.091630   73449600   \n",
      "\n",
      "            Dividends  Stock Splits  SMA_20  RSI_14  MACD  MACD_signal  \\\n",
      "Date                                                                     \n",
      "1980-12-12        0.0           0.0     NaN     NaN   NaN          NaN   \n",
      "1980-12-15        0.0           0.0     NaN     NaN   NaN          NaN   \n",
      "1980-12-16        0.0           0.0     NaN     NaN   NaN          NaN   \n",
      "1980-12-17        0.0           0.0     NaN     NaN   NaN          NaN   \n",
      "1980-12-18        0.0           0.0     NaN     NaN   NaN          NaN   \n",
      "\n",
      "            MACD_hist  \n",
      "Date                   \n",
      "1980-12-12        NaN  \n",
      "1980-12-15        NaN  \n",
      "1980-12-16        NaN  \n",
      "1980-12-17        NaN  \n",
      "1980-12-18        NaN  \n"
     ]
    }
   ],
   "source": [
    "import talib as ta\n",
    "combined_df['SMA_20'] = ta.SMA(combined_df['Close'], timeperiod=20)\n",
    "combined_df['RSI_14'] = ta.RSI(combined_df['Close'], timeperiod=14)\n",
    "combined_df['MACD'], combined_df['MACD_signal'], combined_df['MACD_hist'] = ta.MACD(combined_df['Close'])\n",
    "\n",
    "# Display the DataFrame with added indicators\n",
    "print(combined_df.head())"
   ]
  },
  {
   "cell_type": "markdown",
   "metadata": {},
   "source": [
    "# visualization\n"
   ]
  }
 ],
 "metadata": {
  "kernelspec": {
   "display_name": "Python 3",
   "language": "python",
   "name": "python3"
  },
  "language_info": {
   "codemirror_mode": {
    "name": "ipython",
    "version": 3
   },
   "file_extension": ".py",
   "mimetype": "text/x-python",
   "name": "python",
   "nbconvert_exporter": "python",
   "pygments_lexer": "ipython3",
   "version": "3.12.4"
  }
 },
 "nbformat": 4,
 "nbformat_minor": 2
}
